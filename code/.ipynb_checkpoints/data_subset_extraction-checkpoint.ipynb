{
 "cells": [
  {
   "cell_type": "code",
   "execution_count": 4,
   "id": "a5b3fed4",
   "metadata": {},
   "outputs": [
    {
     "name": "stdout",
     "output_type": "stream",
     "text": [
      "(6658, 6)\n"
     ]
    }
   ],
   "source": [
    "import json\n",
    "import gzip\n",
    "import pandas as pd\n",
    "\n",
    "with open(\"../data/pubmed-dataset/test.txt\", mode=\"r\") as f:\n",
    "    test_data = [json.loads(line.rstrip('\\n')) for line in f]\n",
    "    \n",
    "test_df = pd.DataFrame(test_data)\n",
    "print(test_df.shape)"
   ]
  },
  {
   "cell_type": "code",
   "execution_count": 19,
   "id": "78618daf",
   "metadata": {},
   "outputs": [
    {
     "data": {
      "text/html": [
       "<div>\n",
       "<style scoped>\n",
       "    .dataframe tbody tr th:only-of-type {\n",
       "        vertical-align: middle;\n",
       "    }\n",
       "\n",
       "    .dataframe tbody tr th {\n",
       "        vertical-align: top;\n",
       "    }\n",
       "\n",
       "    .dataframe thead th {\n",
       "        text-align: right;\n",
       "    }\n",
       "</style>\n",
       "<table border=\"1\" class=\"dataframe\">\n",
       "  <thead>\n",
       "    <tr style=\"text-align: right;\">\n",
       "      <th></th>\n",
       "      <th>article_id</th>\n",
       "      <th>article_text</th>\n",
       "      <th>abstract_text</th>\n",
       "      <th>labels</th>\n",
       "      <th>section_names</th>\n",
       "      <th>sections</th>\n",
       "    </tr>\n",
       "  </thead>\n",
       "  <tbody>\n",
       "    <tr>\n",
       "      <th>0</th>\n",
       "      <td>PMC5075302</td>\n",
       "      <td>[anxiety affects quality of life in those livi...</td>\n",
       "      <td>[&lt;S&gt; research on the implications of anxiety i...</td>\n",
       "      <td>None</td>\n",
       "      <td>[1. Introduction, 2. Methods, 3. Results, 4. D...</td>\n",
       "      <td>[[anxiety affects quality of life in those liv...</td>\n",
       "    </tr>\n",
       "    <tr>\n",
       "      <th>1</th>\n",
       "      <td>PMC3309138</td>\n",
       "      <td>[small non - coding rnas are transcribed into ...</td>\n",
       "      <td>[&lt;S&gt; small non - coding rnas include sirna , m...</td>\n",
       "      <td>None</td>\n",
       "      <td>[Introduction, Aberrant Expression of miRNA in...</td>\n",
       "      <td>[[small non - coding rnas are transcribed into...</td>\n",
       "    </tr>\n",
       "    <tr>\n",
       "      <th>2</th>\n",
       "      <td>PMC4086000</td>\n",
       "      <td>[ohss is a serious complication of ovulation i...</td>\n",
       "      <td>[&lt;S&gt; objective : to evaluate the efficacy and ...</td>\n",
       "      <td>None</td>\n",
       "      <td>[Introduction, Materials and Methods, Results,...</td>\n",
       "      <td>[[ohss is a serious complication of ovulation ...</td>\n",
       "    </tr>\n",
       "    <tr>\n",
       "      <th>3</th>\n",
       "      <td>PMC3603086</td>\n",
       "      <td>[congenital adrenal hyperplasia ( cah ) refers...</td>\n",
       "      <td>[&lt;S&gt; congenital adrenal hyperplasia is a group...</td>\n",
       "      <td>None</td>\n",
       "      <td>[I, M, R, D]</td>\n",
       "      <td>[[congenital adrenal hyperplasia ( cah ) refer...</td>\n",
       "    </tr>\n",
       "    <tr>\n",
       "      <th>4</th>\n",
       "      <td>PMC4414990</td>\n",
       "      <td>[type 1 diabetes ( t1d ) results from the dest...</td>\n",
       "      <td>[&lt;S&gt; objective(s):pentoxifylline is an immunom...</td>\n",
       "      <td>None</td>\n",
       "      <td>[Introduction, Materials and Methods, Drug and...</td>\n",
       "      <td>[[type 1 diabetes ( t1d ) results from the des...</td>\n",
       "    </tr>\n",
       "  </tbody>\n",
       "</table>\n",
       "</div>"
      ],
      "text/plain": [
       "   article_id                                       article_text  \\\n",
       "0  PMC5075302  [anxiety affects quality of life in those livi...   \n",
       "1  PMC3309138  [small non - coding rnas are transcribed into ...   \n",
       "2  PMC4086000  [ohss is a serious complication of ovulation i...   \n",
       "3  PMC3603086  [congenital adrenal hyperplasia ( cah ) refers...   \n",
       "4  PMC4414990  [type 1 diabetes ( t1d ) results from the dest...   \n",
       "\n",
       "                                       abstract_text labels  \\\n",
       "0  [<S> research on the implications of anxiety i...   None   \n",
       "1  [<S> small non - coding rnas include sirna , m...   None   \n",
       "2  [<S> objective : to evaluate the efficacy and ...   None   \n",
       "3  [<S> congenital adrenal hyperplasia is a group...   None   \n",
       "4  [<S> objective(s):pentoxifylline is an immunom...   None   \n",
       "\n",
       "                                       section_names  \\\n",
       "0  [1. Introduction, 2. Methods, 3. Results, 4. D...   \n",
       "1  [Introduction, Aberrant Expression of miRNA in...   \n",
       "2  [Introduction, Materials and Methods, Results,...   \n",
       "3                                       [I, M, R, D]   \n",
       "4  [Introduction, Materials and Methods, Drug and...   \n",
       "\n",
       "                                            sections  \n",
       "0  [[anxiety affects quality of life in those liv...  \n",
       "1  [[small non - coding rnas are transcribed into...  \n",
       "2  [[ohss is a serious complication of ovulation ...  \n",
       "3  [[congenital adrenal hyperplasia ( cah ) refer...  \n",
       "4  [[type 1 diabetes ( t1d ) results from the des...  "
      ]
     },
     "execution_count": 19,
     "metadata": {},
     "output_type": "execute_result"
    }
   ],
   "source": [
    "test_df_sub = test_df.iloc[:100]\n",
    "\n",
    "test_df_sub.head()"
   ]
  },
  {
   "cell_type": "code",
   "execution_count": 23,
   "id": "e7d47638",
   "metadata": {},
   "outputs": [],
   "source": [
    "test_df_sub[['article_text', 'abstract_text']].to_csv(\"../data/test.csv\", index = False)"
   ]
  },
  {
   "cell_type": "code",
   "execution_count": 24,
   "id": "419c5952",
   "metadata": {},
   "outputs": [
    {
     "data": {
      "text/html": [
       "<div>\n",
       "<style scoped>\n",
       "    .dataframe tbody tr th:only-of-type {\n",
       "        vertical-align: middle;\n",
       "    }\n",
       "\n",
       "    .dataframe tbody tr th {\n",
       "        vertical-align: top;\n",
       "    }\n",
       "\n",
       "    .dataframe thead th {\n",
       "        text-align: right;\n",
       "    }\n",
       "</style>\n",
       "<table border=\"1\" class=\"dataframe\">\n",
       "  <thead>\n",
       "    <tr style=\"text-align: right;\">\n",
       "      <th></th>\n",
       "      <th>article_text</th>\n",
       "      <th>abstract_text</th>\n",
       "    </tr>\n",
       "  </thead>\n",
       "  <tbody>\n",
       "    <tr>\n",
       "      <th>0</th>\n",
       "      <td>[\"anxiety affects quality of life in those liv...</td>\n",
       "      <td>[\"&lt;S&gt; research on the implications of anxiety ...</td>\n",
       "    </tr>\n",
       "    <tr>\n",
       "      <th>1</th>\n",
       "      <td>['small non - coding rnas are transcribed into...</td>\n",
       "      <td>['&lt;S&gt; small non - coding rnas include sirna , ...</td>\n",
       "    </tr>\n",
       "    <tr>\n",
       "      <th>2</th>\n",
       "      <td>['ohss is a serious complication of ovulation ...</td>\n",
       "      <td>['&lt;S&gt; objective : to evaluate the efficacy and...</td>\n",
       "    </tr>\n",
       "    <tr>\n",
       "      <th>3</th>\n",
       "      <td>['congenital adrenal hyperplasia ( cah ) refer...</td>\n",
       "      <td>['&lt;S&gt; congenital adrenal hyperplasia is a grou...</td>\n",
       "    </tr>\n",
       "    <tr>\n",
       "      <th>4</th>\n",
       "      <td>['type 1 diabetes ( t1d ) results from the des...</td>\n",
       "      <td>['&lt;S&gt; objective(s):pentoxifylline is an immuno...</td>\n",
       "    </tr>\n",
       "  </tbody>\n",
       "</table>\n",
       "</div>"
      ],
      "text/plain": [
       "                                        article_text  \\\n",
       "0  [\"anxiety affects quality of life in those liv...   \n",
       "1  ['small non - coding rnas are transcribed into...   \n",
       "2  ['ohss is a serious complication of ovulation ...   \n",
       "3  ['congenital adrenal hyperplasia ( cah ) refer...   \n",
       "4  ['type 1 diabetes ( t1d ) results from the des...   \n",
       "\n",
       "                                       abstract_text  \n",
       "0  [\"<S> research on the implications of anxiety ...  \n",
       "1  ['<S> small non - coding rnas include sirna , ...  \n",
       "2  ['<S> objective : to evaluate the efficacy and...  \n",
       "3  ['<S> congenital adrenal hyperplasia is a grou...  \n",
       "4  ['<S> objective(s):pentoxifylline is an immuno...  "
      ]
     },
     "execution_count": 24,
     "metadata": {},
     "output_type": "execute_result"
    }
   ],
   "source": [
    "test_df_sub_read = pd.read_csv(\"../data/test.csv\")\n",
    "\n",
    "test_df_sub_read.head()"
   ]
  },
  {
   "cell_type": "code",
   "execution_count": null,
   "id": "5a309b91",
   "metadata": {},
   "outputs": [],
   "source": []
  }
 ],
 "metadata": {
  "kernelspec": {
   "display_name": "Python 3 (ipykernel)",
   "language": "python",
   "name": "python3"
  },
  "language_info": {
   "codemirror_mode": {
    "name": "ipython",
    "version": 3
   },
   "file_extension": ".py",
   "mimetype": "text/x-python",
   "name": "python",
   "nbconvert_exporter": "python",
   "pygments_lexer": "ipython3",
   "version": "3.10.8"
  }
 },
 "nbformat": 4,
 "nbformat_minor": 5
}
